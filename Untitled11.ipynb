{
  "nbformat": 4,
  "nbformat_minor": 0,
  "metadata": {
    "colab": {
      "provenance": []
    },
    "kernelspec": {
      "name": "python3",
      "display_name": "Python 3"
    },
    "language_info": {
      "name": "python"
    }
  },
  "cells": [
    {
      "cell_type": "markdown",
      "source": [
        "# ***Great American Coffee Taste Test***"
      ],
      "metadata": {
        "id": "gq1dE0KdsnCJ"
      }
    },
    {
      "cell_type": "code",
      "execution_count": null,
      "metadata": {
        "id": "6fbRtKkq7Ot7"
      },
      "outputs": [],
      "source": [
        "import pandas as pd\n",
        "\n",
        "df=pd.read_csv('GACTT_RESULTS_ANONYMIZED_v2.csv')"
      ]
    },
    {
      "cell_type": "code",
      "source": [
        "# Mostrar los nombres de las columnas\n",
        "print(df.columns)"
      ],
      "metadata": {
        "id": "8NNXQJ7F_shn"
      },
      "execution_count": null,
      "outputs": []
    },
    {
      "cell_type": "markdown",
      "source": [
        "Cargar las bibliotecas necesarias:\n",
        "\n",
        "Pandas para la manipulación de datos.\n",
        "StandardScaler para escalar los datos.\n",
        "train_test_split para dividir el dataset en entrenamiento y prueba.\n",
        "DecisionTreeClassifier para crear el modelo de árbol de decisión.\n",
        "accuracy_score para calcular la precisión del modelo."
      ],
      "metadata": {
        "id": "4zMV56YYDKBR"
      }
    },
    {
      "cell_type": "code",
      "source": [
        "import pandas as pd\n",
        "from sklearn.preprocessing import StandardScaler\n",
        "from sklearn.model_selection import train_test_split\n",
        "from sklearn.tree import DecisionTreeClassifier\n",
        "from sklearn.metrics import accuracy_score\n",
        "\n",
        "# Cargar el dataset (Great American Coffee Taste Test)\n",
        "df = pd.read_csv('GACTT_RESULTS_ANONYMIZED_v2.csv')\n",
        "\n",
        "# Verificar los nombres de las columnas relacionadas con \"relacion Calidad Precio\"\n",
        "print([col for col in df.columns if 'value for your money' in col])\n",
        "\n",
        "# Conversión de la columna '¿Cuántas tazas de café bebes normalmente al día?' a numérico\n",
        "# Reemplazamos cualquier valor no numérico con NaN, luego calculamos la media\n",
        "df['How many cups of coffee do you typically drink per day?'] = pd.to_numeric(df['How many cups of coffee do you typically drink per day?'], errors='coerce')\n",
        "\n",
        "# Rellenar los valores nulos con la media de la columna\n",
        "df['How many cups of coffee do you typically drink per day?'].fillna(df['How many cups of coffee do you typically drink per day?'].mean(), inplace=True)\n",
        "\n",
        "# Convertir variables categóricas en variables dummies (one-hot encoding) 0 y 1\n",
        "df = pd.get_dummies(df)\n",
        "\n",
        "# Imprimir los nombres de columna después de la codificación para identificar cambios\n",
        "print(df.columns)\n",
        "\n",
        "# Separación de características (X) y etiquetas (Y)\n",
        "# Usamos el nombre de columna correcto después de la codificación (revisa la salida anterior)\n",
        "#¿Siente que está obteniendo una buena relación calidad-precio cuando compra café en una cafetería?\n",
        "x = df.drop('Do you feel like you’re getting good value for your money when you buy coffee at a cafe?_Yes', axis=1)  # INPUTS\n",
        "y = df['Do you feel like you’re getting good value for your money when you buy coffee at a cafe?_Yes']  # OUTPUTS\n",
        "\n",
        "# Dividir el dataset en datos de entrenamiento (80%) y prueba (20%)\n",
        "x_train, x_test, y_train, y_test = train_test_split(x, y, test_size=0.2, random_state=42)\n",
        "\n",
        "# Escalar los datos\n",
        "#para que tengan una media de 0 y una desviación estándar de 1\n",
        "scaler = StandardScaler()\n",
        "x_train = scaler.fit_transform(x_train)\n",
        "x_test = scaler.transform(x_test)\n",
        "\n",
        "# Modelo de árbol de decisión\n",
        "modelo = DecisionTreeClassifier()\n",
        "\n",
        "# Entrenar el modelo\n",
        "modelo.fit(x_train, y_train)\n",
        "\n",
        "# Predicciones\n",
        "y_pred = modelo.predict(x_test)\n",
        "\n",
        "# Calcula el modelo con precisión\n",
        "precision = accuracy_score(y_test, y_pred)\n",
        "print('Precisión: ', precision)"
      ],
      "metadata": {
        "colab": {
          "base_uri": "https://localhost:8080/"
        },
        "collapsed": true,
        "id": "lFq_IRjf7k3L",
        "outputId": "a7255bca-0fc6-4fe7-8f9e-44a137e55ca7"
      },
      "execution_count": 1,
      "outputs": [
        {
          "output_type": "stream",
          "name": "stdout",
          "text": [
            "['Do you feel like you’re getting good value for your money when you buy coffee at a cafe?', 'Do you feel like you’re getting good value for your money with regards to your coffee equipment?']\n"
          ]
        },
        {
          "output_type": "stream",
          "name": "stderr",
          "text": [
            "<ipython-input-1-8bc5a483a4b6>:18: FutureWarning: A value is trying to be set on a copy of a DataFrame or Series through chained assignment using an inplace method.\n",
            "The behavior will change in pandas 3.0. This inplace method will never work because the intermediate object on which we are setting values always behaves as a copy.\n",
            "\n",
            "For example, when doing 'df[col].method(value, inplace=True)', try using 'df.method({col: value}, inplace=True)' or df[col] = df[col].method(value) instead, to perform the operation inplace on the original object.\n",
            "\n",
            "\n",
            "  df['How many cups of coffee do you typically drink per day?'].fillna(df['How many cups of coffee do you typically drink per day?'].mean(), inplace=True)\n"
          ]
        },
        {
          "output_type": "stream",
          "name": "stdout",
          "text": [
            "Index(['How many cups of coffee do you typically drink per day?',\n",
            "       'What kind of flavorings do you add?',\n",
            "       'What kind of flavorings do you add? (Vanilla Syrup)',\n",
            "       'What kind of flavorings do you add? (Caramel Syrup)',\n",
            "       'What kind of flavorings do you add? (Hazelnut Syrup)',\n",
            "       'What kind of flavorings do you add? (Cinnamon (Ground or Stick))',\n",
            "       'What kind of flavorings do you add? (Peppermint Syrup)',\n",
            "       'What kind of flavorings do you add? (Other)',\n",
            "       'What other flavoring do you use?',\n",
            "       'Lastly, how would you rate your own coffee expertise?',\n",
            "       ...\n",
            "       'Employment Status_Student', 'Employment Status_Unemployed',\n",
            "       'Number of Children_1', 'Number of Children_2', 'Number of Children_3',\n",
            "       'Number of Children_More than 3', 'Political Affiliation_Democrat',\n",
            "       'Political Affiliation_Independent',\n",
            "       'Political Affiliation_No affiliation',\n",
            "       'Political Affiliation_Republican'],\n",
            "      dtype='object', length=14882)\n"
          ]
        },
        {
          "output_type": "stream",
          "name": "stderr",
          "text": [
            "/usr/local/lib/python3.10/dist-packages/sklearn/utils/extmath.py:1137: RuntimeWarning: invalid value encountered in divide\n",
            "  updated_mean = (last_sum + new_sum) / updated_sample_count\n",
            "/usr/local/lib/python3.10/dist-packages/sklearn/utils/extmath.py:1142: RuntimeWarning: invalid value encountered in divide\n",
            "  T = new_sum / new_sample_count\n",
            "/usr/local/lib/python3.10/dist-packages/sklearn/utils/extmath.py:1162: RuntimeWarning: invalid value encountered in divide\n",
            "  new_unnormalized_variance -= correction**2 / new_sample_count\n"
          ]
        },
        {
          "output_type": "stream",
          "name": "stdout",
          "text": [
            "Precisión:  0.9851668726823238\n"
          ]
        }
      ]
    },
    {
      "cell_type": "markdown",
      "source": [
        "# Resultados de la Precisión\n",
        "\n",
        "Precisión: 0.9851668726823238\n",
        "\n",
        "Interpretación: Esto significa que el modelo de árbol de decisión clasificó correctamente aproximadamente el 98.52% de las instancias en el conjunto de prueba. En otras palabras, casi todas las predicciones que realizó fueron correctas."
      ],
      "metadata": {
        "id": "5xGzy8d7G179"
      }
    }
  ]
}